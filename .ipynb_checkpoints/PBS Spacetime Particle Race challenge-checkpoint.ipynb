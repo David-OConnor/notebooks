{
 "cells": [
  {
   "cell_type": "markdown",
   "metadata": {},
   "source": [
    "#PBS Spacetime challenge\n",
    "\n",
    "###https://www.youtube.com/watch?v=MUThGpp6ze4\n",
    "\n",
    "#### Note: I've taken a procedural approach using a programming loop that does not use calculus."
   ]
  },
  {
   "cell_type": "markdown",
   "metadata": {},
   "source": [
    "## Orbiter time\n",
    "\n",
    "Below is the equation to calculate orbital period. $R$ and $M$ are the planet's radius and mass respectively. Their values are arbitrary. For this example, we'll use the earth's values, so the results make sense. We can assume SI standard units, ie meters, kilograms, and seconds.\n",
    "\n",
    "$\\frac {T^2}{R^3} = \\frac {4 \\times \\pi^2}{G \\times M_{central}}$\n",
    "\n",
    "The cell below shows the time it takes the orbiter to reach its destination, using the equation above."
   ]
  },
  {
   "cell_type": "code",
   "execution_count": 74,
   "metadata": {
    "collapsed": false,
    "scrolled": true
   },
   "outputs": [
    {
     "name": "stdout",
     "output_type": "stream",
     "text": [
      "Time for orbiter to make half an orbit:  2530.700893190932\n"
     ]
    }
   ],
   "source": [
    "from math import pi as π\n",
    "from math import sqrt\n",
    "\n",
    "R = 6.371 * 10**6\n",
    "M_central = 5.972 * 10**24\n",
    "G = 6.673 * 10**-11  # N * m**2 / kg**2\n",
    "\n",
    "T = sqrt(R**3 * ((4 * π**2) / (G * M_central)))\n",
    "\n",
    "print(\"Time for orbiter to make half an orbit: \", T/2)  # 1/2 the orbital period, which is what we're solving for."
   ]
  },
  {
   "cell_type": "markdown",
   "metadata": {},
   "source": [
    "## Dropper time\n",
    "\n",
    "Because the time it takes the dropper to reach the center fromthe start is the same as it takes to reach the end from the center, we can calculate the time it takes the dropper to reach the center, then multiply that by two.\n",
    "\n",
    "We can approximate by breaking the dropper's path into distance chunks, finding the time for each chunk, and adding them together. With a python loop, we can get a precise estimation without using calculus by using the effective-mass shortcut Gabe described in the video.\n"
   ]
  },
  {
   "cell_type": "markdown",
   "metadata": {},
   "source": [
    "At a distance $d$ from the starting point, the effective area pulling on the falling object is $\\pi \\times (R - d)^2$"
   ]
  },
  {
   "cell_type": "code",
   "execution_count": 80,
   "metadata": {
    "collapsed": false
   },
   "outputs": [
    {
     "name": "stdout",
     "output_type": "stream",
     "text": [
      "Time for dropper to reach the other side of the planet:  2530.7000883064966\n"
     ]
    }
   ],
   "source": [
    "num_chunks = 10**6 # The higher the number of chunks, the more precise the result.\n",
    "chunk_size = R / num_chunks  # a length, in meters\n",
    "\n",
    "volume_original = (4/3) * π * R**3\n",
    "\n",
    "# Counters for time and speed\n",
    "total_time = 0\n",
    "current_speed = 0\n",
    "\n",
    "for d in range(num_chunks):\n",
    "    r_effective = R - d * chunk_size\n",
    "    \n",
    "    # volume_effective and M_effective are the volume and mass of the portion of the \n",
    "    # planet that is inside a radius defined by the orbiter's distance from the planet's center.\n",
    "    volume_effective = (4/3) * π * r_effective**3\n",
    "    M_effective = M_central * (volume_effective / volume_original)\n",
    "    \n",
    "    # Mass of the object is cancelled between gravity force and acceleration equations.\n",
    "    a = (G * M_effective) / r_effective **2  # acceleration of the dropper.\n",
    "    \n",
    "    # The time from d[i-1] to d[i]\n",
    "    time_in_chunk = (sqrt(2*a*chunk_size + current_speed**2) - current_speed) / a\n",
    "\n",
    "    # Update the current speed and total time.\n",
    "    current_speed += a * time_in_chunk\n",
    "    total_time += time_in_chunk\n",
    "          \n",
    "#     print(\"acceleration: \", acceleration, \"speed\", current_speed, \"time\", time_in_chunk)  \n",
    "\n",
    "    \n",
    "print(\"Time for dropper to reach the other side of the planet: \", total_time * 2)\n",
    "    \n",
    "    \n",
    "    "
   ]
  },
  {
   "cell_type": "markdown",
   "metadata": {},
   "source": [
    "## Results comparison\n",
    "\n",
    "As we can see, both the orbiter and dropper reach their destination in the same amount of time. When we modify the mass and radius of the planet, we see that the time to reach the destination changes, but remains the same for both the orbiter and dropper."
   ]
  },
  {
   "cell_type": "markdown",
   "metadata": {},
   "source": [
    "##An vectorized approach below:"
   ]
  },
  {
   "cell_type": "code",
   "execution_count": 81,
   "metadata": {
    "collapsed": false
   },
   "outputs": [
    {
     "data": {
      "text/plain": [
       "<bound method NoseTester.test of <numpy.testing.nosetester.NoseTester object at 0x7f82f02a3748>>"
      ]
     },
     "execution_count": 81,
     "metadata": {},
     "output_type": "execute_result"
    }
   ],
   "source": [
    "\n",
    "num_chunks = 10**6 # The higher the number of chunks, the more precise the result.\n",
    "chunk_size = R / num_chunks  # a length, in meters\n",
    "\n",
    "volume_original = (4/3) * π * R**3\n",
    "\n",
    "total_time = 0\n",
    "current_speed = 0\n",
    "\n",
    "\n",
    "data = np.zeros(num_chunks, 6)\n",
    "\n",
    "\n",
    "for d in range(num_chunks):\n",
    "    r_effective = R - d * chunk_size\n",
    "    volume_effective = (4/3) * π * r_effective**3\n",
    "    M_effective = M_central * (volume_effective / volume_original)\n",
    "    \n",
    "    # Mass of the object is cancelled between gravity force and acceleration equations.\n",
    "    a = (G * M_effective) / r_effective **2  # acceleration of the dropper.\n",
    "    \n",
    "    # The time from d[i-1] to d[i]\n",
    "#     time_in_chunk = -1 * ((sqrt(2*acceleration*chunk_size + current_speed**2)+current_speed) / acceleration)\n",
    "    time_in_chunk = (sqrt(2*a*chunk_size + current_speed**2) - current_speed) / a\n",
    "\n",
    "    # Update the current speed\n",
    "    current_speed += a * time_in_chunk\n",
    "    total_time += time_in_chunk\n",
    "          \n",
    "#     print(\"acceleration: \", acceleration, \"speed\", current_speed, \"time\", time_in_chunk)  \n",
    "\n",
    "    \n",
    "print(\"Time for dropper to reach the other side of the planet: \", total_time * 2)"
   ]
  }
 ],
 "metadata": {
  "kernelspec": {
   "display_name": "Python 3",
   "language": "python",
   "name": "python3"
  },
  "language_info": {
   "codemirror_mode": {
    "name": "ipython",
    "version": 3
   },
   "file_extension": ".py",
   "mimetype": "text/x-python",
   "name": "python",
   "nbconvert_exporter": "python",
   "pygments_lexer": "ipython3",
   "version": "3.4.3"
  }
 },
 "nbformat": 4,
 "nbformat_minor": 0
}
