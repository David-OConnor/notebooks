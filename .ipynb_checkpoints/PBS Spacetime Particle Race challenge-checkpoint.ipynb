{
 "cells": [
  {
   "cell_type": "markdown",
   "metadata": {},
   "source": [
    "#PBS Spacetime Two-particle Newtonian gravity challenge\n",
    "\n",
    "###https://www.youtube.com/watch?v=MUThGpp6ze4\n",
    "\n",
    "#### Note: I've taken a procedural approach using a loop; no calculus involved."
   ]
  },
  {
   "cell_type": "markdown",
   "metadata": {},
   "source": [
    "## Orbiter time\n",
    "\n",
    "Below is the equation to calculate orbital period, $T$. $R$ and $M$ are the planet's radius and mass respectively.  Their values are arbitrary. For this example, we'll use the earth's values, so the results will make sense. We can assume SI standard units, ie meters, kilograms, and seconds. $G$ is the gravitational constant.\n",
    "\n",
    "$$T = \\sqrt{R^3 \\times \\frac {4\\pi^2}{G \\times M}}$$\n",
    "\n",
    "The cell below shows the time it takes the orbiter to reach its destination, using the equation above."
   ]
  },
  {
   "cell_type": "code",
   "execution_count": 6,
   "metadata": {
    "collapsed": false,
    "scrolled": true
   },
   "outputs": [
    {
     "name": "stdout",
     "output_type": "stream",
     "text": [
      "Time for orbiter to make half an orbit:  2530.700893190932\n"
     ]
    }
   ],
   "source": [
    "from math import pi as π\n",
    "from math import sqrt\n",
    "\n",
    "R = 6.371 * 10**6\n",
    "M = 5.972 * 10**24\n",
    "G = 6.673 * 10**-11  # N * m**2 / kg**2\n",
    "\n",
    "T = sqrt(R**3 * ((4 * π**2) / (G * M)))\n",
    "\n",
    "print(\"Time for orbiter to make half an orbit: \", T/2)  # 1/2 the orbital period, which is what we're solving for."
   ]
  },
  {
   "cell_type": "markdown",
   "metadata": {},
   "source": [
    "## Dropper time\n",
    "\n",
    "Because the time it takes the dropper to reach the center from Start is the same as it takes to reach Finish from the center, we can calculate the time it takes the dropper to reach the center, then multiply that by two.\n",
    "\n",
    "We can approximate by breaking the dropper's path into distance chunks, finding the time for each chunk, and adding them together. With a python loop, we can get a precise estimation without using calculus by using the effective-mass shortcut Gabe described in the video.\n"
   ]
  },
  {
   "cell_type": "markdown",
   "metadata": {},
   "source": [
    "At a distance $d$ from the starting point, the effective voume pulling on the dropper is $\\frac {4}{3}\\pi \\times (R - d)^3$. By comparing this to the starting volume, and multiplying this ratio by the starting mass, we can find the effective mass acting on the dropper, per Gabe's hint.\n",
    "\n",
    "We can determine the acceleration at a given $d$ like so, using the effective mass and radius we calculated. Dropper mass is factored out. $$a = \\frac {G \\times M} {R^2}$$\n",
    "\n",
    "We use this equation to calculate the time spent in a  given chunk, where $a$ is acceleration, and $vi$ is velocity at the previous distance.\n",
    "$$t = \\frac {\\sqrt{2ad + vi^2} - vi} {a}$$"
   ]
  },
  {
   "cell_type": "code",
   "execution_count": 9,
   "metadata": {
    "collapsed": false
   },
   "outputs": [
    {
     "name": "stdout",
     "output_type": "stream",
     "text": [
      "Time for dropper to reach the other side of the planet:  2530.7000883064966\n"
     ]
    }
   ],
   "source": [
    "num_chunks = 10**6 # The higher the number of chunks, the more precise the result.\n",
    "chunk_size = R / num_chunks  # a length, in meters\n",
    "\n",
    "def volume(r):\n",
    "    return (4/3) * π * r**3\n",
    "\n",
    "volume_whole = volume(R)\n",
    "\n",
    "# Counters for time and speed\n",
    "total_time = 0\n",
    "v_current = 0\n",
    "\n",
    "for d in range(num_chunks):\n",
    "    r_effective = R - d * chunk_size\n",
    "    \n",
    "    # volume_effective and M_effective are the volume and mass of the portion of the \n",
    "    # planet that is inside a radius defined by the orbiter's distance from the planet's center.\n",
    "    volume_effective = volume(r_effective)\n",
    "    M_effective = M * (volume_effective / volume_whole)\n",
    "    \n",
    "    # Mass of the particle is factored otu of the gravity force and acceleration equations.\n",
    "    a = (G * M_effective) / r_effective **2  # acceleration of the dropper.\n",
    "    \n",
    "    # The time from d[i-1] to d[i].\n",
    "    time_in_chunk = (sqrt(2*a*chunk_size + v_current**2) - v_current) / a\n",
    "\n",
    "    # Update the current speed and total time.\n",
    "    v_current += a * time_in_chunk\n",
    "    total_time += time_in_chunk\n",
    "\n",
    "print(\"Time for dropper to reach the other side of the planet: \", total_time * 2)"
   ]
  },
  {
   "cell_type": "markdown",
   "metadata": {},
   "source": [
    "## Results\n",
    "\n",
    "As we can see, both the orbiter and dropper reach Finish in the same amount of time. When we modify the mass and radius of the planet, we see that the time to reach the destination changes, but remains the same for both the orbiter and dropper."
   ]
  }
 ],
 "metadata": {
  "kernelspec": {
   "display_name": "Python 3",
   "language": "python",
   "name": "python3"
  },
  "language_info": {
   "codemirror_mode": {
    "name": "ipython",
    "version": 3
   },
   "file_extension": ".py",
   "mimetype": "text/x-python",
   "name": "python",
   "nbconvert_exporter": "python",
   "pygments_lexer": "ipython3",
   "version": "3.4.3"
  }
 },
 "nbformat": 4,
 "nbformat_minor": 0
}
